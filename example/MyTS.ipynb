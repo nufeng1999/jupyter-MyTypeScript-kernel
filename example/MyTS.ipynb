{
 "cells": [
  {
   "cell_type": "code",
   "execution_count": 1,
   "metadata": {},
   "outputs": [
    {
     "name": "stdout",
     "output_type": "stream",
     "text": [
      "[MyTypeScript] Info:file h:\\Jupyter\\ipynb\\MyTS\\src/test.ts created successfully\n",
      "[MyTypeScript] Info:Generating executable file\n",
      "[MyTypeScript] Info:cmd /c tsc h:\\Jupyter\\ipynb\\MyTS\\src/test.ts --outFile src/test.js \n",
      "[MyTypeScript] Info:The process end:108\n",
      "[MyTypeScript] Info:The process :h:\\Jupyter\\ipynb\\MyTS\\src/test.js\n",
      "[MyTypeScript] Info:node h:\\Jupyter\\ipynb\\MyTS\\src/test.js \n"
     ]
    },
    {
     "data": {
      "text/plain": [
       "Hello World\n"
      ]
     },
     "metadata": {
      "text/plain": {}
     },
     "output_type": "display_data"
    },
    {
     "name": "stdout",
     "output_type": "stream",
     "text": [
      "[MyTypeScript] Info:The process end:2640\n"
     ]
    }
   ],
   "source": [
    "//%overwritefile\n",
    "//%saveto:src/test.ts\n",
    "//%cflags:--outFile src/test.js\n",
    "\n",
    "var message:string = \"Hello World\" \n",
    "console.log(message)"
   ]
  },
  {
   "cell_type": "code",
   "execution_count": 4,
   "metadata": {},
   "outputs": [
    {
     "name": "stdout",
     "output_type": "stream",
     "text": [
      "[MyTypeScript] Info:file h:\\Jupyter\\ipynb\\MyTS\\tsconfig.json created successfully\n"
     ]
    }
   ],
   "source": [
    "//%overwritefile\n",
    "//%saveto:tsconfig.json\n",
    "//%noruncode\n",
    "{\n",
    "    \"compilerOptions\":{\n",
    "      \"lib\":[ \"ES2015\" ]\n",
    "    }\n",
    "}"
   ]
  },
  {
   "cell_type": "code",
   "execution_count": 2,
   "metadata": {},
   "outputs": [
    {
     "name": "stdout",
     "output_type": "stream",
     "text": [
      "[MyTypeScript] Info:file h:\\Jupyter\\ipynb\\MyTS\\src/test1.ts created successfully\n",
      "[MyTypeScript] Info:Generating executable file\n",
      "[MyTypeScript] Info:cmd /c tsc h:\\Jupyter\\ipynb\\MyTS\\src/test1.ts --outFile src/test1.js --lib es2015,dom \n",
      "[MyTypeScript] Info:The process end:6652\n",
      "[MyTypeScript] Info:The process :h:\\Jupyter\\ipynb\\MyTS\\src/test1.js\n",
      "[MyTypeScript] Info:node h:\\Jupyter\\ipynb\\MyTS\\src/test1.js \n"
     ]
    },
    {
     "data": {
      "text/plain": [
       "hello2\n"
      ]
     },
     "metadata": {
      "text/plain": {}
     },
     "output_type": "display_data"
    },
    {
     "data": {
      "text/plain": [
       "hello1\n"
      ]
     },
     "metadata": {
      "text/plain": {}
     },
     "output_type": "display_data"
    },
    {
     "name": "stdout",
     "output_type": "stream",
     "text": [
      "[MyTypeScript] Info:The process end:13720\n"
     ]
    }
   ],
   "source": [
    "//%overwritefile\n",
    "//%saveto:src/test1.ts\n",
    "//%cflags:--lib es2015,dom --outFile src/test1.js\n",
    "async function hello(): Promise<string> {\n",
    "    return \"hello1\";\n",
    "}\n",
    " \n",
    "hello().then(value => {\n",
    "        console.log(value);\n",
    "    }).catch(err => {\n",
    "        console.error(err);\n",
    "    });\n",
    " \n",
    "console.log('hello2');"
   ]
  },
  {
   "cell_type": "code",
   "execution_count": null,
   "metadata": {},
   "outputs": [],
   "source": []
  }
 ],
 "metadata": {
  "interpreter": {
   "hash": "38bff49347d1e315ffe4e438ca69c956c90694fd6c920dd305da3d1e99520bc7"
  },
  "kernelspec": {
   "display_name": "MyTypeScript",
   "language": "typescript",
   "name": "mytypescript"
  },
  "language_info": {
   "codemirror_mode": {
    "name": "ipython",
    "version": 3
   },
   "file_extension": ".ts",
   "mimetype": "text/typescript",
   "name": "typescript",
   "nbconvert_exporter": "TypeScript",
   "pygments_lexer": "ipython3",
   "version": "3.9.6"
  },
  "orig_nbformat": 4
 },
 "nbformat": 4,
 "nbformat_minor": 2
}
