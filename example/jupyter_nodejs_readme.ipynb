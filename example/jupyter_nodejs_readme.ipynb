{
 "cells": [
  {
   "cell_type": "code",
   "execution_count": 1,
   "metadata": {},
   "outputs": [
    {
     "data": {
      "text/plain": [
       "[MyNodejs] Info:file /root/Jupyter/jupyter-MyNodejs-kernel/example/test/test1.js created successfully\n"
      ]
     },
     "metadata": {
      "text/plain": {}
     },
     "output_type": "display_data"
    },
    {
     "data": {
      "text/plain": [
       "[MyNodejs] Info:The process :/root/Jupyter/jupyter-MyNodejs-kernel/example/test/test1.js\n"
      ]
     },
     "metadata": {
      "text/plain": {}
     },
     "output_type": "display_data"
    },
    {
     "data": {
      "text/plain": [
       "[MyNodejs] Info:node /root/Jupyter/jupyter-MyNodejs-kernel/example/test/test1.js Test \n"
      ]
     },
     "metadata": {
      "text/plain": {}
     },
     "output_type": "display_data"
    },
    {
     "name": "stdout",
     "output_type": "stream",
     "text": [
      "The process PID:9093\n"
     ]
    },
    {
     "data": {
      "text/plain": [
       "Hello Test!\n"
      ]
     },
     "metadata": {
      "text/plain": {}
     },
     "output_type": "display_data"
    },
    {
     "data": {
      "text/plain": [
       "The process end:9093\n"
      ]
     },
     "metadata": {
      "text/plain": {}
     },
     "output_type": "display_data"
    }
   ],
   "source": [
    "//%overwritefile\n",
    "//%file:test/test1.js\n",
    "//%args:Test\n",
    "////%noruncode\n",
    "//%showpid\n",
    "////%kcmd:list\n",
    "//#!/usr/bin/env node\n",
    "\n",
    "'use strict';\n",
    "\n",
    "/*\n",
    "    The command line arguments are stored in the `process.argv` array, \n",
    "    which has the following structure:\n",
    "    [0] The path of the executable that started the Node.js process\n",
    "    [1] The path to this application\n",
    "    [2-n] the command line arguments\n",
    "\n",
    "    Example: [ '/bin/node', '/path/to/yourscript', 'arg1', 'arg2', ... ]\n",
    "    src: https://nodejs.org/api/process.html#process_process_argv\n",
    " */\n",
    "\n",
    "// Store the first argument as username.\n",
    "var username = process.argv[2];\n",
    "\n",
    "// Check if the username hasn't been provided.\n",
    "if (!username) {\n",
    "\n",
    "    // Extract the filename\n",
    "    var appName = process.argv[1].split(require('path').sep).pop();\n",
    "\n",
    "    //  Give the user an example on how to use the app.\n",
    "    console.error('Missing argument! Example: %s YOUR_NAME', appName);\n",
    "\n",
    "    // Exit the app (success: 0, error: 1). \n",
    "    // An error will stop the execution chain. For example:\n",
    "    //   ./app.js && ls       -> won't execute ls\n",
    "    //   ./app.js David && ls -> will execute ls\n",
    "    process.exit(1);\n",
    "}\n",
    "\n",
    "// Print the message to the console.\n",
    "console.log('Hello %s!', username);\n"
   ]
  },
  {
   "cell_type": "code",
   "execution_count": 2,
   "id": "97700599",
   "metadata": {},
   "outputs": [
    {
     "data": {
      "text/plain": [
       "this define's test by 000\n",
       "\n"
      ]
     },
     "metadata": {
      "text/plain": {}
     },
     "output_type": "display_data"
    },
    {
     "data": {
      "text/plain": [
       "this define's test by ll3 ---test\n",
       "\n"
      ]
     },
     "metadata": {
      "text/plain": {}
     },
     "output_type": "display_data"
    },
    {
     "data": {
      "text/plain": [
       "The process end:10009\n"
      ]
     },
     "metadata": {
      "text/plain": {}
     },
     "output_type": "display_data"
    }
   ],
   "source": [
    "//%log:0\n",
    "//%define:M1 line2='this define\\'s test by {{name}}'\n",
    "\n",
    "//$M1 name=000  uu=test\n",
    "console.log(line2+\"\\n\")\n",
    "//jj2_begin: name=ll3   uu=test\n",
    "line3='this define\\'s test by {{name}} ---{{uu}}'\n",
    "console.log(line3+\"\\n\")\n",
    "//jj2_end\n"
   ]
  },
  {
   "cell_type": "code",
   "execution_count": null,
   "id": "5130014f",
   "metadata": {},
   "outputs": [],
   "source": [
    "////%outputtype:text/html\n",
    "//%runprg:bash \n",
    "//%runprgargs:test.sh\n",
    "//%overwritefile\n",
    "//%file:test.sh\n",
    "echo \"脚本文件测试\"\n",
    "ls\n",
    "\n"
   ]
  },
  {
   "cell_type": "code",
   "execution_count": 6,
   "id": "93f5ab6c",
   "metadata": {},
   "outputs": [
    {
     "data": {
      "text/plain": [
       "/root/Jupyter/jupyter-MyNodejs-kernel/example\n",
       "│ \n",
       "└── (empty)\n",
       "\n"
      ]
     },
     "metadata": {
      "text/plain": {}
     },
     "output_type": "display_data"
    },
    {
     "data": {
      "text/plain": [
       "The process end:12001\n"
      ]
     },
     "metadata": {
      "text/plain": {}
     },
     "output_type": "display_data"
    }
   ],
   "source": [
    "//%log:0\n",
    "//%npmcmd:ll \n",
    "///%kcmd:ll -h\n",
    "//%noruncode"
   ]
  },
  {
   "cell_type": "code",
   "execution_count": 1,
   "id": "e4fbdacb",
   "metadata": {},
   "outputs": [
    {
     "data": {
      "text/plain": [
       "/opt/node-v16.5.0-linux-x64/lib/node_modules\n"
      ]
     },
     "metadata": {
      "text/plain": {}
     },
     "output_type": "display_data"
    },
    {
     "data": {
      "text/plain": [
       "The process end:13578\n"
      ]
     },
     "metadata": {
      "text/plain": {}
     },
     "output_type": "display_data"
    }
   ],
   "source": [
    "//%log:0\n",
    "//%npmcmd:root -g\n",
    "///%kcmd:ll -h\n",
    "//%noruncode\n"
   ]
  },
  {
   "cell_type": "code",
   "execution_count": null,
   "id": "b2648199",
   "metadata": {},
   "outputs": [],
   "source": []
  }
 ],
 "metadata": {
  "interpreter": {
   "hash": "916dbcbb3f70747c44a77c7bcd40155683ae19c65e1c03b4aa3499c5328201f1"
  },
  "kernelspec": {
   "display_name": "MyNodejs",
   "language": "javascript",
   "name": "mynodejs"
  },
  "language_info": {
   "codemirror_mode": {
    "name": "ipython",
    "version": 3
   },
   "file_extension": ".js",
   "mimetype": "text/javascript",
   "name": "javascript",
   "nbconvert_exporter": "javascript",
   "pygments_lexer": "ipython3",
   "version": "3.9.7"
  },
  "widgets": {
   "application/vnd.jupyter.widget-state+json": {
    "state": {},
    "version_major": 2,
    "version_minor": 0
   }
  }
 },
 "nbformat": 4,
 "nbformat_minor": 5
}
